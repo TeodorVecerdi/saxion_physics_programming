{
 "cells": [
  {
   "cell_type": "code",
   "execution_count": 89,
   "metadata": {},
   "outputs": [],
   "source": [
    "class Vec():\n",
    "    def __init__(self, x, y):\n",
    "        self.x = x\n",
    "        self.y = y\n",
    "    def set(self, x, y):\n",
    "        self.x = x\n",
    "        self.y = y\n",
    "    def length(self):\n",
    "        import math\n",
    "        return math.sqrt(self.x * self.x + self.y * self.y)\n",
    "    def normalize(self):\n",
    "        l = self.length()\n",
    "        if l > 0.0:\n",
    "            self.x /= l\n",
    "            self.y /= l\n",
    "    def normalized(self):\n",
    "        l = self.length()\n",
    "        if l <= 0.0:\n",
    "            return Vec(self.x, self.y)\n",
    "        return Vec(self.x/l, self.y/l)\n",
    "    def dot(self, other):\n",
    "        return self.x * other.x + self.y * other.y\n",
    "    def normal(self):\n",
    "        return Vec(-self.y, self.x)\n",
    "    def normal2(self):\n",
    "        return Vec(self.y, -self.x)\n",
    "    def __sub__(self, other):\n",
    "        return Vec(self.x - other.x, self.y - other.y)\n",
    "    def __add__(self, other):\n",
    "        return Vec(self.x + other.x, self.y + other.y)\n",
    "    def __mul__(self, other):\n",
    "        return Vec(self.x * other, self.y * other)\n",
    "    def div(self, other):\n",
    "        return Vec(self.x / other, self.y / other)\n",
    "    def __str__(self):\n",
    "        return 'Vec({},{})'.format(self.x, self.y)\n"
   ]
  },
  {
   "cell_type": "code",
   "execution_count": 75,
   "metadata": {},
   "outputs": [],
   "source": [
    "class Ball():\n",
    "    def __init__(self, pos: Vec, radius):\n",
    "        self.pos = pos\n",
    "        self.radius = radius"
   ]
  },
  {
   "cell_type": "code",
   "execution_count": 122,
   "metadata": {},
   "outputs": [
    {
     "name": "stdout",
     "output_type": "stream",
     "text": [
      "Vec(-4.0,-3.0) Vec(6.0,-8.0)\n",
      "Vec(2.0,-11.0)\n"
     ]
    }
   ],
   "source": [
    "n = Vec(0.8, 0.6)\n",
    "v = Vec(2, -11)\n",
    "p = (n * v.dot(n)).div(n.length() * n.length())\n",
    "\n",
    "line = n - p\n",
    "scalar_proj = v.dot(n.normalized())\n",
    "q = v - p\n",
    "print(p, q)\n",
    "print(p + q)\n",
    "# print(line.normal().normalized())"
   ]
  },
  {
   "cell_type": "code",
   "execution_count": 124,
   "metadata": {},
   "outputs": [
    {
     "name": "stdout",
     "output_type": "stream",
     "text": [
      "11.180339887498949 11.180339887498949\n"
     ]
    }
   ],
   "source": [
    "vin = Vec(2, -11)\n",
    "n = Vec(0.8, 0.6)\n",
    "vout = Vec(10, -5)\n",
    "print(vin.length(), vout.length())"
   ]
  }
 ],
 "metadata": {
  "kernelspec": {
   "display_name": "Python 3",
   "language": "python",
   "name": "python3"
  },
  "language_info": {
   "codemirror_mode": {
    "name": "ipython",
    "version": 3
   },
   "file_extension": ".py",
   "mimetype": "text/x-python",
   "name": "python",
   "nbconvert_exporter": "python",
   "pygments_lexer": "ipython3",
   "version": "3.7.1"
  }
 },
 "nbformat": 4,
 "nbformat_minor": 2
}
