{
 "cells": [
  {
   "cell_type": "code",
   "execution_count": 7,
   "metadata": {},
   "outputs": [],
   "source": [
    "class Vec():\n",
    "    def __init__(self, x, y):\n",
    "        self.x = x\n",
    "        self.y = y\n",
    "    def set(self, x, y):\n",
    "        self.x = x\n",
    "        self.y = y\n",
    "    def length(self):\n",
    "        import math\n",
    "        return math.sqrt(self.x * self.x + self.y * self.y)\n",
    "    def normalize(self):\n",
    "        l = self.length()\n",
    "        if l > 0.0:\n",
    "            self.x /= l\n",
    "            self.y /= l\n",
    "    def normalized(self):\n",
    "        l = self.length()\n",
    "        if l <= 0.0:\n",
    "            return Vec(self.x, self.y)\n",
    "        return Vec(self.x/l, self.y/l)\n",
    "    def dot(self, other):\n",
    "        return self.x * other.x + self.y * other.y\n",
    "    def normal(self):\n",
    "        return Vec(-self.y, self.x)\n",
    "    def normal2(self):\n",
    "        return Vec(self.y, -self.x)\n",
    "    def __sub__(self, other):\n",
    "        return Vec(self.x - other.x, self.y - other.y)\n",
    "    def __add__(self, other):\n",
    "        return Vec(self.x + other.x, self.y + other.y)\n",
    "    def __mul__(self, other):\n",
    "        return Vec(self.x * other, self.y * other)\n",
    "    def div(self, other):\n",
    "        return Vec(self.x / other, self.y / other)\n",
    "    def __str__(self):\n",
    "        return 'Vec({},{})'.format(self.x, self.y)\n"
   ]
  },
  {
   "cell_type": "code",
   "execution_count": 75,
   "metadata": {},
   "outputs": [],
   "source": [
    "class Ball():\n",
    "    def __init__(self, pos: Vec, radius):\n",
    "        self.pos = pos\n",
    "        self.radius = radius"
   ]
  },
  {
   "cell_type": "code",
   "execution_count": 122,
   "metadata": {},
   "outputs": [
    {
     "name": "stdout",
     "output_type": "stream",
     "text": [
      "Vec(-4.0,-3.0) Vec(6.0,-8.0)\n",
      "Vec(2.0,-11.0)\n"
     ]
    }
   ],
   "source": [
    "n = Vec(0.8, 0.6)\n",
    "v = Vec(2, -11)\n",
    "p = (n * v.dot(n)).div(n.length() * n.length())\n",
    "\n",
    "line = n - p\n",
    "scalar_proj = v.dot(n.normalized())\n",
    "q = v - p\n",
    "print(p, q)\n",
    "print(p + q)\n",
    "# print(line.normal().normalized())"
   ]
  },
  {
   "cell_type": "code",
   "execution_count": 3,
   "metadata": {},
   "outputs": [
    {
     "ename": "NameError",
     "evalue": "name 'Vec' is not defined",
     "output_type": "error",
     "traceback": [
      "\u001b[1;31m---------------------------------------------------------------------------\u001b[0m",
      "\u001b[1;31mNameError\u001b[0m                                 Traceback (most recent call last)",
      "\u001b[1;32m<ipython-input-3-bb12c94f2832>\u001b[0m in \u001b[0;36m<module>\u001b[1;34m\u001b[0m\n\u001b[1;32m----> 1\u001b[1;33m \u001b[0mvin\u001b[0m \u001b[1;33m=\u001b[0m \u001b[0mVec\u001b[0m\u001b[1;33m(\u001b[0m\u001b[1;36m2\u001b[0m\u001b[1;33m,\u001b[0m \u001b[1;33m-\u001b[0m\u001b[1;36m11\u001b[0m\u001b[1;33m)\u001b[0m\u001b[1;33m\u001b[0m\u001b[1;33m\u001b[0m\u001b[0m\n\u001b[0m\u001b[0;32m      2\u001b[0m \u001b[0mn\u001b[0m \u001b[1;33m=\u001b[0m \u001b[0mVec\u001b[0m\u001b[1;33m(\u001b[0m\u001b[1;36m0.8\u001b[0m\u001b[1;33m,\u001b[0m \u001b[1;36m0.6\u001b[0m\u001b[1;33m)\u001b[0m\u001b[1;33m\u001b[0m\u001b[1;33m\u001b[0m\u001b[0m\n\u001b[0;32m      3\u001b[0m \u001b[0mvout\u001b[0m \u001b[1;33m=\u001b[0m \u001b[0mVec\u001b[0m\u001b[1;33m(\u001b[0m\u001b[1;36m10\u001b[0m\u001b[1;33m,\u001b[0m \u001b[1;33m-\u001b[0m\u001b[1;36m5\u001b[0m\u001b[1;33m)\u001b[0m\u001b[1;33m\u001b[0m\u001b[1;33m\u001b[0m\u001b[0m\n\u001b[0;32m      4\u001b[0m \u001b[0mprint\u001b[0m\u001b[1;33m(\u001b[0m\u001b[0mvin\u001b[0m\u001b[1;33m.\u001b[0m\u001b[0mlength\u001b[0m\u001b[1;33m(\u001b[0m\u001b[1;33m)\u001b[0m\u001b[1;33m,\u001b[0m \u001b[0mvout\u001b[0m\u001b[1;33m.\u001b[0m\u001b[0mlength\u001b[0m\u001b[1;33m(\u001b[0m\u001b[1;33m)\u001b[0m\u001b[1;33m)\u001b[0m\u001b[1;33m\u001b[0m\u001b[1;33m\u001b[0m\u001b[0m\n",
      "\u001b[1;31mNameError\u001b[0m: name 'Vec' is not defined"
     ]
    }
   ],
   "source": [
    "vin = Vec(2, -11)\n",
    "n = Vec(0.8, 0.6)\n",
    "vout = Vec(10, -5)\n",
    "print(vin.length(), vout.length())"
   ]
  },
  {
   "cell_type": "code",
   "execution_count": 14,
   "metadata": {},
   "outputs": [
    {
     "name": "stdout",
     "output_type": "stream",
     "text": [
      "Vec(6.6,4.8)\n"
     ]
    }
   ],
   "source": [
    "import math\n",
    "pos1 = Vec(6,4)\n",
    "pos2 = Vec(3,0)\n",
    "dist = lambda v1,v2: math.sqrt((v2.x - v1.x)**2 + (v2.y - v1.y)**2)\n",
    "overlap = 3+3-5\n",
    "collision_normal = (pos1 - pos2).normalized()\n",
    "pos1 += collision_normal * overlap\n",
    "print(pos1)"
   ]
  },
  {
   "cell_type": "code",
   "execution_count": 18,
   "metadata": {},
   "outputs": [
    {
     "name": "stdout",
     "output_type": "stream",
     "text": [
      "Vec(5,10) 11.0\n"
     ]
    }
   ],
   "source": [
    "pos1 = Vec(1,0)\n",
    "pos2 = Vec(7, 8)\n",
    "line = pos2-pos1\n",
    "ball_pos = Vec(6, 10)\n",
    "ls = ball_pos - pos1\n",
    "proj = ls.dot(line.normalized())\n",
    "print(ls, proj)"
   ]
  },
  {
   "cell_type": "code",
   "execution_count": 24,
   "metadata": {},
   "outputs": [
    {
     "name": "stdout",
     "output_type": "stream",
     "text": [
      "u:  Vec(-2,6)\n",
      "a 20.000000000000004 b -40 c 15.000000000000007 t1 1.4999999999999993 t2 0.5000000000000003\n",
      "poi Vec(2.0000000000000013,4.999999999999999)\n"
     ]
    }
   ],
   "source": [
    "\"\"\"\n",
    "var segmentVec = line.End - line.Start;\n",
    "var normalizedSegmentVec = segmentVec.normalized;\n",
    "var segmentLengthSqr = segmentVec.sqrMagnitude;\n",
    "var normal = segmentVec.Normal();\n",
    "\n",
    "// Start of line\n",
    "var ballDiff = ball.Position - line.Start;\n",
    "var ballDistance = Math.Abs(ballDiff.Dot(normal));\n",
    "var projectionLength = ballDiff.Dot(normalizedSegmentVec);\n",
    "var projectionVector = projectionLength * normalizedSegmentVec;\n",
    "var projectionVectorDot = projectionVector.Dot(normalizedSegmentVec);\n",
    "var projectionLengthSqr = projectionLength*projectionLength;\n",
    "\n",
    "// Checks\n",
    "var ballDistanceCheck = ballDistance < ball.Radius;\n",
    "var projectionLengthCheck = projectionLengthSqr < segmentLengthSqr;\n",
    "var projectionDirectionCheck = projectionVectorDot > 0;\n",
    "\"\"\"\n",
    "import math\n",
    "\n",
    "c1 = Vec(0, 6)\n",
    "r1 = 2.0\n",
    "c2 = Vec(2, 0)\n",
    "r2 = 3.0\n",
    "v = Vec(4, -2)\n",
    "u = c1 - c2\n",
    "print(\"u: \", u)\n",
    "a = v.length() ** 2\n",
    "b = 2 * (u.dot(v))\n",
    "c = u.length() ** 2 - (r1 + r2) ** 2\n",
    "D = b**2 - 4 * a * c\n",
    "t1 = (-b + math.sqrt(D)) / (2*a)\n",
    "t2 = (-b - math.sqrt(D)) / (2*a)\n",
    "print(\"a\", a, 'b', b, 'c', c, 't1', t1, 't2', t2)\n",
    "poi = c1 + Vec(v.x * t2, v.y * t2)\n",
    "print(\"poi\", poi)"
   ]
  }
 ],
 "metadata": {
  "kernelspec": {
   "display_name": "Python 3",
   "language": "python",
   "name": "python3"
  },
  "language_info": {
   "codemirror_mode": {
    "name": "ipython",
    "version": 3
   },
   "file_extension": ".py",
   "mimetype": "text/x-python",
   "name": "python",
   "nbconvert_exporter": "python",
   "pygments_lexer": "ipython3",
   "version": "3.7.1"
  }
 },
 "nbformat": 4,
 "nbformat_minor": 2
}
